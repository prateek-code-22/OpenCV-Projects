{
 "cells": [
  {
   "cell_type": "markdown",
   "metadata": {},
   "source": [
    "# MINI PROJECT ON SCANNING QR CODE TO TEXT"
   ]
  },
  {
   "cell_type": "markdown",
   "metadata": {},
   "source": [
    "### AND GENERATEAS QR CODE IMAGE."
   ]
  },
  {
   "cell_type": "code",
   "execution_count": 4,
   "metadata": {},
   "outputs": [
    {
     "name": "stdin",
     "output_type": "stream",
     "text": [
      "Enter the text Hello Everyone!\n"
     ]
    }
   ],
   "source": [
    "import pyqrcode\n",
    "from pyzbar.pyzbar import decode\n",
    "from PIL import Image\n",
    "\n",
    "inp = input(\"Enter the text\")\n",
    "qr = pyqrcode.create(inp)\n",
    "qr.png('QRcode.png',scale=10)"
   ]
  },
  {
   "cell_type": "code",
   "execution_count": 7,
   "metadata": {},
   "outputs": [
    {
     "name": "stdout",
     "output_type": "stream",
     "text": [
      "reading QR code text\n",
      "QR CODE TEXT: Hello Everyone!\n"
     ]
    }
   ],
   "source": [
    "import pyttsx3\n",
    "import time\n",
    "# Reading qr code from image and converting to ascii text.\n",
    "d  = decode(Image.open('QRcode.png'))\n",
    "print(\"reading QR code text\")\n",
    "pyttsx3.speak(\"Reading QR code text\")\n",
    "time.sleep(1)\n",
    "print(\"QR CODE TEXT:\",d[0].data.decode('ascii'))\n",
    "pyttsx3.speak(d[0].data.decode('ascii'))"
   ]
  },
  {
   "cell_type": "code",
   "execution_count": null,
   "metadata": {},
   "outputs": [],
   "source": []
  }
 ],
 "metadata": {
  "kernelspec": {
   "display_name": "Python 3",
   "language": "python",
   "name": "python3"
  },
  "language_info": {
   "codemirror_mode": {
    "name": "ipython",
    "version": 3
   },
   "file_extension": ".py",
   "mimetype": "text/x-python",
   "name": "python",
   "nbconvert_exporter": "python",
   "pygments_lexer": "ipython3",
   "version": "3.8.2"
  }
 },
 "nbformat": 4,
 "nbformat_minor": 4
}
