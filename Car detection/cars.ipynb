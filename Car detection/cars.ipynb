{
 "cells": [
  {
   "cell_type": "code",
   "execution_count": 2,
   "metadata": {},
   "outputs": [],
   "source": [
    "import numpy as np\n",
    "import cv2"
   ]
  },
  {
   "cell_type": "code",
   "execution_count": 3,
   "metadata": {},
   "outputs": [],
   "source": [
    "car_classifier = cv2.CascadeClassifier(r'C:\\Users\\ANMOL\\Desktop\\DATA\\MINI Projects\\ML\\Haarcascade\\cars.xml')"
   ]
  },
  {
   "cell_type": "code",
   "execution_count": 4,
   "metadata": {},
   "outputs": [],
   "source": [
    "cap = cv2.VideoCapture('./images/Car video.mp4')"
   ]
  },
  {
   "cell_type": "code",
   "execution_count": null,
   "metadata": {},
   "outputs": [],
   "source": [
    "while cap.isOpened():\n",
    "    ret ,frame = cap.read()\n",
    "    \n",
    "    cars = car_classifier.detectMultiScale(frame,1.3,2)\n",
    "    \n",
    "    for (x,y,w,h) in cars:\n",
    "        \n",
    "        cv2.rectangle(frame,\n",
    "                     (x,y),\n",
    "                     (x+w,y+h),\n",
    "                     (0,0,255),2)\n",
    "        \n",
    "        cv2.imshow('cars', frame)\n",
    "        \n",
    "        if cv2.waitKey(5) == ord('q'):\n",
    "            break\n",
    "            \n",
    "cap.release()\n",
    "cv2.destroyAllWindows()"
   ]
  }
 ],
 "metadata": {
  "kernelspec": {
   "display_name": "Python 3",
   "language": "python",
   "name": "python3"
  },
  "language_info": {
   "codemirror_mode": {
    "name": "ipython",
    "version": 3
   },
   "file_extension": ".py",
   "mimetype": "text/x-python",
   "name": "python",
   "nbconvert_exporter": "python",
   "pygments_lexer": "ipython3",
   "version": "3.8.2"
  }
 },
 "nbformat": 4,
 "nbformat_minor": 4
}
