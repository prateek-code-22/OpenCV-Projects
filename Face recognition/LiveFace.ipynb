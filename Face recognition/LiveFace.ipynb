{
 "cells": [
  {
   "cell_type": "code",
   "execution_count": 1,
   "metadata": {},
   "outputs": [],
   "source": [
    "import cv2"
   ]
  },
  {
   "cell_type": "code",
   "execution_count": 2,
   "metadata": {},
   "outputs": [],
   "source": [
    "cap = cv2.VideoCapture(0)"
   ]
  },
  {
   "cell_type": "code",
   "execution_count": 3,
   "metadata": {},
   "outputs": [],
   "source": [
    "classifier = cv2.CascadeClassifier(r\".\\haarcascade_frontalface_default.xml\")"
   ]
  },
  {
   "cell_type": "code",
   "execution_count": 4,
   "metadata": {},
   "outputs": [],
   "source": [
    "while True:\n",
    "    ret,frame = cap.read()\n",
    "    faces = classifier.detectMultiScale(frame)\n",
    "    if ret:\n",
    "        #cv2.imshow(\"MY FACE\",frame)  -->TO SHOW LIVE VIDEO\n",
    "        for face in faces:\n",
    "            x,y,w,h = face\n",
    "            rgb = cv2.cvtColor(frame,cv2.COLOR_BGR2RGB)  #CONVERT BGR TO RGB COLOR\n",
    "            rgb[y:y+h,x:x+w]\n",
    "            frame = cv2.rectangle(rgb,(x,y),(x+w,y+h),(0,0,255),2)   #RECTANGLE ON FACE\n",
    "            cv2.imshow('FACE RECOGNITION FRAME',frame)    #FRAME TITLE\n",
    "            \n",
    "        if cv2.waitKey(5) == ord('q'):   #'q' for closing frame\n",
    "                break\n",
    "                \n",
    "cap.release()\n",
    "cv2.destroyAllWindows()"
   ]
  },
  {
   "cell_type": "code",
   "execution_count": null,
   "metadata": {},
   "outputs": [],
   "source": []
  }
 ],
 "metadata": {
  "kernelspec": {
   "display_name": "Python 3",
   "language": "python",
   "name": "python3"
  },
  "language_info": {
   "codemirror_mode": {
    "name": "ipython",
    "version": 3
   },
   "file_extension": ".py",
   "mimetype": "text/x-python",
   "name": "python",
   "nbconvert_exporter": "python",
   "pygments_lexer": "ipython3",
   "version": "3.8.2"
  }
 },
 "nbformat": 4,
 "nbformat_minor": 4
}
